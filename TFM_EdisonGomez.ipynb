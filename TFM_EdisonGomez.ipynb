{
  "nbformat": 4,
  "nbformat_minor": 0,
  "metadata": {
    "colab": {
      "name": "TFM_EdisonGomez.ipynb",
      "provenance": [],
      "collapsed_sections": [],
      "include_colab_link": true
    },
    "kernelspec": {
      "display_name": "Python 3",
      "language": "python",
      "name": "python3"
    },
    "language_info": {
      "codemirror_mode": {
        "name": "ipython",
        "version": 3
      },
      "file_extension": ".py",
      "mimetype": "text/x-python",
      "name": "python",
      "nbconvert_exporter": "python",
      "pygments_lexer": "ipython3",
      "version": "3.8.5"
    }
  },
  "cells": [
    {
      "cell_type": "markdown",
      "metadata": {
        "id": "view-in-github",
        "colab_type": "text"
      },
      "source": [
        "<a href=\"https://colab.research.google.com/github/edisongomezs18/edisongomez.com/blob/main/TFM_EdisonGomez.ipynb\" target=\"_parent\"><img src=\"https://colab.research.google.com/assets/colab-badge.svg\" alt=\"Open In Colab\"/></a>"
      ]
    },
    {
      "cell_type": "markdown",
      "metadata": {
        "id": "3FwapMEfE_X-"
      },
      "source": [
        "# ***Maestría en Sistemas de la información***\n",
        "# ***Mención en inteligencia de negocios y analítica de datos masivos***\n",
        "## ***Módulo: Fundamentos de tratamiento de datos para Data Science***\n",
        "### ***Mestrante: Edison Javier Gómez Sangoluisa***"
      ]
    },
    {
      "cell_type": "markdown",
      "metadata": {
        "id": "tVAqzon5FU3T"
      },
      "source": [
        "# Descripción del problema:"
      ]
    },
    {
      "cell_type": "markdown",
      "metadata": {
        "id": "QVenQRVYFpej"
      },
      "source": [
        "“Hola! Soy Patricio, director de Eventos Media, empresa dedicada a la gestión de eventos. Estamos probando un nuevo sistema para recepción de solicitudes de compra de tickets.Me ha llegado la información de unas entradas y tengo que procesarlas. El objetivo es estructurar los datos en una tabla, pero la información llegó con varios problemas... Me podrías ayudar a limpiar y estructurar el mensaje? Las instrucciones de cómo hacerlo están en el mismo mensaje! Me gustaría que la solución final esté en una tabla para poder procesarla luego.”"
      ]
    },
    {
      "cell_type": "markdown",
      "metadata": {
        "id": "6WLvWnwEF0tc"
      },
      "source": [
        "# Desarrollo de la solución:"
      ]
    },
    {
      "cell_type": "code",
      "metadata": {
        "colab": {
          "base_uri": "https://localhost:8080/",
          "height": 932
        },
        "id": "r2ZUf8vNHHxt",
        "outputId": "421d2777-03be-4335-8a9d-d9b72635534e"
      },
      "source": [
        "# Importar librerías necesarias\n",
        "import nltk\n",
        "import pandas as pd\n",
        "\n",
        "#Asignación del mensaje de entrada:\n",
        "def cargaMensaje():\n",
        "  mensaje = \"\"\"\n",
        "* Esta es una línea de comentario y no sirve para nada \n",
        "* La estructura de la información relevante es: \n",
        "* primeros 5 digitos : id del cliente\n",
        "* los siguientes 3 digitos: id del canal \n",
        "* los siguientes 5 digitos: id del evento\n",
        "* Una cantidad variable de caracteres inútiles \n",
        "* El caracter \"-\" marca el inicio y final del precio de venta. \n",
        "* Necesitamos una tabla que estructure la información descrita anteriormente\n",
        "\n",
        "Patricio Fernadez, 0123400111111jkljlkjhjkhjkhjkhjkh-25.6-ergfgfggfhgfhgfh\n",
        "Borja Mon de York, 0123500111111jklfgfglkjhjkhjkhjkhjkh-25.6-rtytry\n",
        "Patricio Fernandez, 0123400111111jkljassaslkjhjkhjkhjkhjkh-55.3-tyt\n",
        "Bruce Wayne, 0123800111111jkljlkjhjkhjkhjkhjkh-75.6-asfdsf\n",
        "Micheal Jordan, 0123600111111jkljlkjhjkhjkhjkhjkh-125.6-fdgdghrtt\n",
        "Patricio Fernandez, 0123400211111jkljlkjhjkhjkhjkhjkh-28.6-ererggfdv\n",
        "\n",
        "Elidolo DelEcuador, 0123900111111jkljlkjhjkhjkrrrhjkhjkh-25.6-dsgfdgrd\n",
        "* Esto es una trampa!\n",
        "Peter Parker, 0123100511112jkljlkjhjkhjkhjkhjkh-75.2-fgbfb\n",
        "Ignacio Gonzalez, 0123200111112jkljlkjhjkhjkhjkhjkh-25.6-dgergetg\n",
        "\n",
        "Clark Kent, 0122200111111jkljlkgfghfhjhjkhjkhjkhjkh-15.8-sdfgfdgdg\n",
        "Bruce Wayne, 0123800111112jkljlkrrrrjhjkhjkhjkhjkh-35.2-gregregr\n",
        "Pepe Fulano, 0122200111112jkljlkjhjkhjkhjkhjkh-25.6-wrgrgreg\n",
        "\"\"\"\n",
        "  return(mensaje)\n",
        "\n",
        "#Crear el dataframe para almacenar los datos del mensaje\n",
        "def crearDf():\n",
        "  global df\n",
        "  df = pd.DataFrame(columns=['nombre_cliente','id_cliente','id_canal','id_evento','precio'])\n",
        "  return(df)\n",
        "\n",
        "#Cargar los datos resultantes en el Dataframe\n",
        "def llenarDf (c1,c2,c3,c4,c5):\n",
        "  global df\n",
        "  df = df.append({'nombre_cliente': c1,'id_cliente':c2,'id_canal':c3,'id_evento':c4,'precio':c5}, ignore_index=True)\n",
        "  return(df)\n",
        "\n",
        "#Dividir el mensaje en lineas individuales\n",
        "def mensajeLineas(mensaje):\n",
        "  lineas = mensaje.splitlines()\n",
        "  return(lineas)\n",
        "\n",
        "#Dividir las lineas en campos definidos\n",
        "def lineaCampos (lineasValidas):\n",
        "  global nombre_cliente\n",
        "  global id_cliente\n",
        "  global id_canal\n",
        "  global id_evento\n",
        "  global precio\n",
        "  columna = lineasValidas.split(\", \")\n",
        "  nombre_cliente = columna[0]\n",
        "  valores = columna[1].split(\"-\")\n",
        "  campos = valores[0]\n",
        "  precio = valores[1]\n",
        "  id_cliente = campos[0:5]\n",
        "  id_canal = campos[5:8]\n",
        "  id_evento = campos[8:13]\n",
        "  return(nombre_cliente,id_cliente,id_canal,id_evento,precio)\n",
        "\n",
        "#Procesar las lineas válidas\n",
        "def procesaLineas(lineas):\n",
        "  for linea in lineas:\n",
        "    validador = linea[0:1]\n",
        "    if validador not in ('',' ','*'):\n",
        "      lineasValidas = linea\n",
        "      lineaCampos (lineasValidas)\n",
        "      llenarDf (nombre_cliente,id_cliente,id_canal,id_evento,precio)\n",
        "\n",
        "#Graficar el total por eventos\n",
        "def graficarEvento(df):\n",
        "  df['id_evento'] = df['id_evento'].astype('int')\n",
        "  df['precio'] = df['precio'].astype('float64')\n",
        "  totales = df.groupby('id_evento').agg(Total_Ventas=('precio', 'sum'), Total_Clientes=('precio', 'count'))\n",
        "  ax = totales.plot(kind='bar',title='Totales por Evento',figsize=(10,5))\n",
        "  for p in ax.patches:\n",
        "    ax.annotate(str(round(p.get_height(),2)), (p.get_x() * 1.005, p.get_height() * 1.005))\n",
        "\n",
        "#Graficar el total por clientes\n",
        "def graficarCliente(df):\n",
        "  df['id_cliente'] = df['id_cliente'].astype('int')\n",
        "  df['precio'] = df['precio'].astype('float64')\n",
        "  totales = df.groupby('id_cliente').agg(Total_Compras=('precio', 'sum'), Total_Boletos=('precio', 'count'))\n",
        "  ax = totales.plot(kind='bar',title='Totales por Clientes',figsize=(10,5))\n",
        "  for p in ax.patches:\n",
        "    ax.annotate(str(round(p.get_height(),2)), (p.get_x() * 1.005, p.get_height() * 1.005))\n",
        "\n",
        "#Proceso principal donde se invocan a las funciones creadas\n",
        "def main():\n",
        "  crearDf()\n",
        "  mensaje = cargaMensaje()\n",
        "  lineas = mensajeLineas(mensaje)\n",
        "  procesaLineas(lineas)\n",
        "  print(df)\n",
        "  graficarEvento(df)\n",
        "  graficarCliente(df)\n",
        "  \n",
        "#Ejecucion del proceso principal\n",
        "main()"
      ],
      "execution_count": 7,
      "outputs": [
        {
          "output_type": "stream",
          "text": [
            "        nombre_cliente id_cliente id_canal id_evento precio\n",
            "0    Patricio Fernadez      01234      001     11111   25.6\n",
            "1    Borja Mon de York      01235      001     11111   25.6\n",
            "2   Patricio Fernandez      01234      001     11111   55.3\n",
            "3          Bruce Wayne      01238      001     11111   75.6\n",
            "4       Micheal Jordan      01236      001     11111  125.6\n",
            "5   Patricio Fernandez      01234      002     11111   28.6\n",
            "6   Elidolo DelEcuador      01239      001     11111   25.6\n",
            "7         Peter Parker      01231      005     11112   75.2\n",
            "8     Ignacio Gonzalez      01232      001     11112   25.6\n",
            "9           Clark Kent      01222      001     11111   15.8\n",
            "10         Bruce Wayne      01238      001     11112   35.2\n",
            "11         Pepe Fulano      01222      001     11112   25.6\n"
          ],
          "name": "stdout"
        },
        {
          "output_type": "display_data",
          "data": {
            "image/png": "[encoded data removed]",
            "text/plain": [
              "<Figure size 720x360 with 1 Axes>"
            ]
          },
          "metadata": {
            "tags": [],
            "needs_background": "light"
          }
        },
        {
          "output_type": "display_data",
          "data": {
            "image/png": "[encoded data removed]",
            "text/plain": [
              "<Figure size 720x360 with 1 Axes>"
            ]
          },
          "metadata": {
            "tags": [],
            "needs_background": "light"
          }
        }
      ]
    },
    {
      "cell_type": "markdown",
      "metadata": {
        "id": "zBbRn3IGTdr3"
      },
      "source": [
        "# Conclusiones"
      ]
    },
    {
      "cell_type": "markdown",
      "metadata": {
        "id": "9dRp26eiTkJ_"
      },
      "source": [
        "Luego de cargar los datos en un Dataframe, se puede agrupar la venta de boletos por eventos y por clientes para obtener los siguientes resultados:\n",
        "\n",
        "*   Existen dos eventos en total y un total de 12 boletos vendidos\n",
        "*   El evento con código 11111 recaudó 377.70 con 8 boletos vendidos\n",
        "*   El evento con código 11112 recaudó 161.60 con 4 boletos vendidos\n",
        "*   El cliente que más compró boletos fue el cliente con códidgo 1234 con 3 boletos\n",
        "*   El cliente que más gastó en boletos fue el cliente con código 1236 por un total de 125.60\n",
        "\n",
        "\n",
        "\n",
        "\n",
        "\n"
      ]
    }
  ]
}